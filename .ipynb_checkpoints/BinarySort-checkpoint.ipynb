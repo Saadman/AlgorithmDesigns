{
 "cells": [
  {
   "cell_type": "markdown",
   "metadata": {},
   "source": [
    "## Binary Sort"
   ]
  },
  {
   "cell_type": "code",
   "execution_count": 2,
   "metadata": {},
   "outputs": [
    {
     "name": "stdout",
     "output_type": "stream",
     "text": [
      "-1\n",
      "4\n"
     ]
    }
   ],
   "source": [
    "##One way of thinking about the problem(not complete)\n",
    "\n",
    "def binary_search(input_array, value):\n",
    "    \"\"\"Your code goes here.\"\"\"\n",
    "    if(len(input_array)%2==0):\n",
    "        mid_val=int(round(len(input_array)/2 -1))\n",
    "        #nLen=len(input_array)\n",
    "    else:\n",
    "        mid_val=int(round(len(input_array)/2))\n",
    "        #print(mid_val)\n",
    "    \n",
    "    n=len(input_array)\n",
    "    nLen=n/2 \n",
    "    \n",
    "    i=3\n",
    "    while nLen>=1:\n",
    "        \n",
    "        #print(\"length left:\",nLen)\n",
    "        #print(\"this is the index:\",mid_val)\n",
    "        #print(\"this is the value:\",input_array[mid_val])\n",
    "        if(value==input_array[mid_val]):\n",
    "            return mid_val\n",
    "        elif(value<input_array[mid_val]): \n",
    "            nLen=n/i\n",
    "            if (nLen>=1):\n",
    "                i=i+1\n",
    "               # print(\"this is i\",i)\n",
    "                mid_val=mid_val - int(round(nLen))\n",
    "                #print(mid_val)\n",
    "                #print(nLen)\n",
    "           \n",
    "        \n",
    "        elif(value>input_array[mid_val]):\n",
    "            nLen=n/i\n",
    "            if(nLen>=1):\n",
    "                i=i+1\n",
    "                #print(\"This is i\",i)\n",
    "                mid_val=mid_val + int(round(nLen))\n",
    "                #print(mid_val)\n",
    "                #print(nLen)\n",
    "        else:\n",
    "            return -1\n",
    "            \n",
    "    \n",
    "    \n",
    "    return -1\n",
    "\n",
    "test_list = [1,3,9,11,15,19,29]\n",
    "\n",
    "#test_list=[3,6,8,9,14,17,20]\n",
    "test_val1 = 25\n",
    "test_val2 = 15\n",
    "print (binary_search(test_list, test_val1))\n",
    "print (binary_search(test_list, test_val2))\n"
   ]
  },
  {
   "cell_type": "code",
   "execution_count": 14,
   "metadata": {},
   "outputs": [
    {
     "name": "stdout",
     "output_type": "stream",
     "text": [
      "-1\n",
      "-1\n"
     ]
    }
   ],
   "source": [
    "\n",
    "#While loop solution\n",
    "\n",
    "def binary_search(input_array, value):\n",
    "    \n",
    "    \n",
    "    low=0\n",
    "    high=len(input_array)-1\n",
    "   #print(high)\n",
    "    \n",
    "    while(high>=low):\n",
    "        \n",
    "        mid=int((high+low)/2)\n",
    "        #print(mid)\n",
    "        #print(high)\n",
    "        #print(low)\n",
    "        if(value==input_array[mid]):\n",
    "            return mid\n",
    "        \n",
    "        elif(value>input_array[mid]):\n",
    "            low=mid+1\n",
    "        \n",
    "        elif(value<input_array[mid]):\n",
    "            high=mid-1\n",
    "    return -1\n",
    "    \n",
    "\n",
    "test_list = [1,3,9,11,15,19,29]\n",
    "\n",
    "#test_list=[3,6,8,9,14,17,20]\n",
    "test_val1 = 25\n",
    "test_val2 = 15\n",
    "print (binary_search(test_list, test_val1))\n",
    "print (binary_search(test_list, test_val2))"
   ]
  },
  {
   "cell_type": "code",
   "execution_count": null,
   "metadata": {},
   "outputs": [],
   "source": []
  }
 ],
 "metadata": {
  "kernelspec": {
   "display_name": "Python 3",
   "language": "python",
   "name": "python3"
  },
  "language_info": {
   "codemirror_mode": {
    "name": "ipython",
    "version": 3
   },
   "file_extension": ".py",
   "mimetype": "text/x-python",
   "name": "python",
   "nbconvert_exporter": "python",
   "pygments_lexer": "ipython3",
   "version": "3.5.6"
  }
 },
 "nbformat": 4,
 "nbformat_minor": 2
}
