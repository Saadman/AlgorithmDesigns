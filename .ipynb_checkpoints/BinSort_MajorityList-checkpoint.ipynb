{
 "cells": [
  {
   "cell_type": "markdown",
   "metadata": {},
   "source": [
    "## Finding Elements in list which are majority (showing up more than half of the list)\n"
   ]
  },
  {
   "cell_type": "raw",
   "metadata": {},
   "source": [
    "Design an efficient algorithm for computing the majority element in a list L[0:n – 1] if it exists or determining that it doesn’t exist. An element is a majority element if it is repeated more than n/2 times. Don’t settle for straightforward algorithm. Try to design a linear-time algorithm. Analyze the algorithm you have designed in a), i.e., determine B(n) and W(n)."
   ]
  },
  {
   "cell_type": "code",
   "execution_count": 39,
   "metadata": {},
   "outputs": [
    {
     "name": "stdout",
     "output_type": "stream",
     "text": [
      "list_length:6\n",
      "3.0\n",
      "{2: 4, 5: 1, 6: 1}\n"
     ]
    }
   ],
   "source": [
    "## Naive approach\n",
    "\n",
    "\n",
    "L=[5,2,2,2,2,6]\n",
    "\n",
    "list_length=len(L)\n",
    "print(\"list_length:%i\"%list_length)\n",
    "\n",
    "MajorityLimit=list_length/2\n",
    "\n",
    "dictionary={}\n",
    "\n",
    "for i in range(0,list_length):\n",
    "    \n",
    "    if L[i]!=-1:\n",
    "        count=0\n",
    "        for j in range(i,list_length): # runs n+(n-1)+(n-2).....1 times= n(n+1)/2 so worst case O(n^2). B(n) when list is sorted because you dont have to go through all elements in a list\n",
    "            \n",
    "            if L[j]==L[i] and j==i:\n",
    "                count+=1\n",
    "            elif L[j]==L[i] and j!=i:\n",
    "                count+=1\n",
    "                L[j]=-1\n",
    "               \n",
    "        dictionary[L[i]]=count       \n",
    "    #print(L[i],count)\n",
    "print(MajorityLimit)\n",
    "print(dictionary) #key value pair of which keys have higher than Majority Limit\n"
   ]
  },
  {
   "cell_type": "code",
   "execution_count": 55,
   "metadata": {},
   "outputs": [
    {
     "name": "stdout",
     "output_type": "stream",
     "text": [
      "is 0\n",
      "1\n",
      "is 1\n",
      "1\n",
      "is 2\n",
      "2\n",
      "is 3\n",
      "3\n",
      "is 4\n",
      "4\n",
      "is 5\n",
      "1\n",
      "[0, 0, 4, 0, 0, 1, 1, 0]\n"
     ]
    }
   ],
   "source": [
    "l=[0,0,0,0,0,0,0,0]\n",
    "L=[5,2,2,2,2,6]\n",
    "for i in range(0,list_length): # goes through n times(length of list)\n",
    "    print(\"is\",i)\n",
    "    l[L[i]]=l[L[i]]+1\n",
    "    print( l[L[i]])\n",
    "    \n",
    "print(l) #shows the indexes and their majority number corresponding values in the list \n",
    "\n",
    "\n"
   ]
  },
  {
   "cell_type": "code",
   "execution_count": null,
   "metadata": {},
   "outputs": [],
   "source": []
  }
 ],
 "metadata": {
  "kernelspec": {
   "display_name": "Python 3",
   "language": "python",
   "name": "python3"
  },
  "language_info": {
   "codemirror_mode": {
    "name": "ipython",
    "version": 3
   },
   "file_extension": ".py",
   "mimetype": "text/x-python",
   "name": "python",
   "nbconvert_exporter": "python",
   "pygments_lexer": "ipython3",
   "version": "3.5.6"
  }
 },
 "nbformat": 4,
 "nbformat_minor": 2
}
