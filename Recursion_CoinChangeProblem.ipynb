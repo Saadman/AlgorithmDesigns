{
 "cells": [
  {
   "cell_type": "markdown",
   "metadata": {},
   "source": [
    "## Coin change problem"
   ]
  },
  {
   "cell_type": "raw",
   "metadata": {},
   "source": [
    "Given  X coins with a certain amount attached to it, what is the least number of coins needed to get get amount Y. "
   ]
  },
  {
   "cell_type": "code",
   "execution_count": 16,
   "metadata": {},
   "outputs": [
    {
     "name": "stdout",
     "output_type": "stream",
     "text": [
      "Amount to make change with coins in X:30\n",
      "[25, 5]\n",
      "Least number of coin change to add up to Y: 2\n"
     ]
    }
   ],
   "source": [
    "X=[1,5,10,25] #penny,nickel,dime,quarter\n",
    "\n",
    "Y=int(input(\"Amount to make change with coins in X:\"))\n",
    "\n",
    "to_change=[]\n",
    "\n",
    "def Change(amount_toChange):\n",
    "    global X\n",
    "    global to_change\n",
    "    max_change=None\n",
    "    for coin in X:\n",
    "        \n",
    "        if (coin==amount_toChange):\n",
    "            \n",
    "            to_change.append(coin)\n",
    "            return coin\n",
    "        \n",
    "        if coin < amount_toChange:\n",
    "            \n",
    "            max_change=coin    #iterations will go through all coins in X to find which has lowest different between amount and coins in X\n",
    "                \n",
    "    new_amount=amount_toChange-max_change\n",
    "    to_change.append(max_change)\n",
    "    #print(to_change)\n",
    "    return max_change + Change(new_amount)\n",
    "\n",
    "\n",
    "Change(Y)\n",
    "        \n",
    "\n",
    "print(to_change)\n",
    "print(\"Least number of coin change to add up to Y:\",len(to_change))\n",
    "        \n",
    "        \n",
    "    \n",
    "    \n",
    "    \n",
    "    \n",
    "\n",
    "\n"
   ]
  },
  {
   "cell_type": "code",
   "execution_count": null,
   "metadata": {},
   "outputs": [],
   "source": []
  },
  {
   "cell_type": "code",
   "execution_count": null,
   "metadata": {},
   "outputs": [],
   "source": []
  }
 ],
 "metadata": {
  "kernelspec": {
   "display_name": "Python 3",
   "language": "python",
   "name": "python3"
  },
  "language_info": {
   "codemirror_mode": {
    "name": "ipython",
    "version": 3
   },
   "file_extension": ".py",
   "mimetype": "text/x-python",
   "name": "python",
   "nbconvert_exporter": "python",
   "pygments_lexer": "ipython3",
   "version": "3.5.6"
  }
 },
 "nbformat": 4,
 "nbformat_minor": 2
}
