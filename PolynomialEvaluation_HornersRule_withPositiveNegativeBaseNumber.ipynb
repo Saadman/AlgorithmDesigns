{
 "cells": [
  {
   "cell_type": "markdown",
   "metadata": {},
   "source": [
    "## Horners Rule implemented for positive and negative base number"
   ]
  },
  {
   "cell_type": "code",
   "execution_count": 4,
   "metadata": {},
   "outputs": [
    {
     "name": "stdout",
     "output_type": "stream",
     "text": [
      "3\n",
      "2\n",
      "1\n",
      "0\n",
      "243\n"
     ]
    }
   ],
   "source": [
    "a=[3,2,2,2,2] #array of coefficients\n",
    "x=3  #base to be raised to an increment power\n",
    "\n",
    "\n",
    "# For the whole polynomial equation\n",
    "def HornerEval(a,v):\n",
    "    length=len(a)-1\n",
    "    sum=a[length]\n",
    "    i=length-1\n",
    "    while i>=0:\n",
    "        sum=sum*v +a[i]    # n times multiplication and addition\n",
    "        print(i)\n",
    "        i-=1\n",
    "    return sum\n",
    "\n",
    "result=HornerEval(a,x)\n",
    "print(result)"
   ]
  },
  {
   "cell_type": "code",
   "execution_count": 5,
   "metadata": {},
   "outputs": [
    {
     "name": "stdout",
     "output_type": "stream",
     "text": [
      "4\n",
      "2\n",
      "2\n",
      "2\n",
      "[183, 60]\n",
      "positive x evaluation:243 negative x evaluation:123\n"
     ]
    }
   ],
   "source": [
    "#For evaluating for x and -x, running HornerEval will give 2n multiplication and 2n addition. Below is an algorithm\n",
    "#to do it in n+1 multiplication and n+1 addition\n",
    "\n",
    "def modHornerEval(a,v):\n",
    "    length=len(a)-1\n",
    "    if(length%2==0):\n",
    "        sumEven=a[length]\n",
    "        sumOdd=a[length-1]\n",
    "    else:\n",
    "        sumEven=a[length-1]\n",
    "        sumOdd=a[length]\n",
    "    \n",
    "    i=length\n",
    "    while i>=0:\n",
    "        \n",
    "        if(i%2==0):\n",
    "            \n",
    "            if(i!=0):\n",
    "                sumEven=sumEven*v*v +a[i-2] # n/2 times multiplication and addition\n",
    "                print(i)\n",
    "                print(a[i])\n",
    "                i-=1\n",
    "            else:\n",
    "                i-=1\n",
    "        else:\n",
    "            if(i!=1):\n",
    "                sumOdd=sumOdd*v*v +a[i]  #n/2 times multiplicatio nand addition\n",
    "                i-=1\n",
    "            else:\n",
    "                i-=1\n",
    "    sumOdd=v*(sumOdd) # 1 time multiplication\n",
    "    return ([sumEven,sumOdd])\n",
    "\n",
    "modresult=modHornerEval(a,x)\n",
    "print(modresult)\n",
    "\n",
    "\n",
    "\n",
    "#For positive x,\n",
    "Fofx=modresult[0] + modresult[1]  # n/2 + n/2 = n times multiplication  and addition and then 1 multiplication\n",
    "                                            #from sumOdd and this addition counts as 1. so n+1 mult and addition\n",
    "\n",
    "FofMinusx=modresult[0] - modresult[1] \n",
    "\n",
    "print(\"positive x evaluation:%i negative x evaluation:%i\"%(Fofx,FofMinusx))\n",
    " \n",
    "\n"
   ]
  },
  {
   "cell_type": "code",
   "execution_count": null,
   "metadata": {},
   "outputs": [],
   "source": []
  }
 ],
 "metadata": {
  "kernelspec": {
   "display_name": "Python 3",
   "language": "python",
   "name": "python3"
  },
  "language_info": {
   "codemirror_mode": {
    "name": "ipython",
    "version": 3
   },
   "file_extension": ".py",
   "mimetype": "text/x-python",
   "name": "python",
   "nbconvert_exporter": "python",
   "pygments_lexer": "ipython3",
   "version": "3.7.3"
  }
 },
 "nbformat": 4,
 "nbformat_minor": 2
}
