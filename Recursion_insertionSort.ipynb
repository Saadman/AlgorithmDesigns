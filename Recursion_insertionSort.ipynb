{
 "cells": [
  {
   "cell_type": "markdown",
   "metadata": {},
   "source": [
    "## Recursive implementation of InsertionSort\n"
   ]
  },
  {
   "cell_type": "code",
   "execution_count": 10,
   "metadata": {},
   "outputs": [
    {
     "name": "stdout",
     "output_type": "stream",
     "text": [
      "[1, 2, 3, 4]\n"
     ]
    }
   ],
   "source": [
    "array_list=[4,3,2,1] #Considering worst case complexity\n",
    "array_length=len(array_list)\n",
    "\n",
    "\n",
    "\n",
    "def InsertionRecursive(array,n):\n",
    "    if n<=1:\n",
    "        return #will return with n=2\n",
    "    else:\n",
    "        InsertionRecursive(array,n-1)\n",
    "        \n",
    "        index=n-1\n",
    "        insertElement=array[index]\n",
    "        \n",
    "        i=n-2\n",
    "        \n",
    "        while i>=0 and array[i] >insertElement:\n",
    "            \n",
    "            array[i+1]=array[i]      #this swapping happens 1 +2 +.....n-1 times or n(n+1)/2 (Gauss theorem).Quadratic complexity.This is the worst case.\n",
    "            i=i-1\n",
    "        array[i+1]=insertElement    #average case will be i/2 the number of swaps for the i'th element moving to the left since that will be the average. So, 1 + 1/2(2+3+..n-1)\n",
    "        \n",
    "\n",
    "InsertionRecursive(array_list,array_length)\n",
    "print(array_list)\n",
    "\n"
   ]
  }
 ],
 "metadata": {
  "kernelspec": {
   "display_name": "Python 3",
   "language": "python",
   "name": "python3"
  },
  "language_info": {
   "codemirror_mode": {
    "name": "ipython",
    "version": 3
   },
   "file_extension": ".py",
   "mimetype": "text/x-python",
   "name": "python",
   "nbconvert_exporter": "python",
   "pygments_lexer": "ipython3",
   "version": "3.7.3"
  }
 },
 "nbformat": 4,
 "nbformat_minor": 2
}
