{
 "cells": [
  {
   "cell_type": "markdown",
   "metadata": {},
   "source": [
    "## Rivest,Shamir and Adelman (RSA) algorithm "
   ]
  },
  {
   "cell_type": "raw",
   "metadata": {},
   "source": [
    "1.Create mapping dictionary for base 27 system\n",
    "2. Get coded value for base 27 letters\n",
    "3.Convert from base 27 to base 10\n",
    "4. Define powers() to calculate powers recursively in the entirity of this script"
   ]
  },
  {
   "cell_type": "code",
   "execution_count": 1,
   "metadata": {},
   "outputs": [
    {
     "name": "stdout",
     "output_type": "stream",
     "text": [
      "393660\n",
      "397305\n",
      "397818\n",
      "397838\n"
     ]
    }
   ],
   "source": [
    "import math\n",
    "\n",
    "Base27={\" \":0,\"A\":1,\"B\":2,\"C\":3,\"D\":4,\"E\":5,\n",
    "        \"F\":6, \"G\":7, \"H\":8, \"I\":9, \"J\":10,\n",
    "        \"K\":11,\"L\":12,\"M\":13,\"N\":14,\"O\":15,\n",
    "        \"P\":16,\"Q\":17,\"R\":18,\"S\":19,\"T\":20,\n",
    "        \"U\":21,\"V\":22,\"W\":23,\"X\":24,\"Y\":25,\n",
    "        \"Z\":26\n",
    "       }\n",
    "\n",
    "\n",
    "M=\"TEST\" #Message to be encrypted\n",
    "\n",
    "MessageList=[] #Getting the coded values for base27\n",
    "\n",
    "for b27 in M:\n",
    "    MessageList.append(Base27[b27])\n",
    "    \n",
    "    \n",
    "#recursive method for computing x^n\n",
    "def powers(x,n):\n",
    "    if   n==0:\n",
    "         return 1\n",
    "    elif n==1:\n",
    "        \n",
    "        return x\n",
    "        print(x)\n",
    "    \n",
    "    elif n%2==0:\n",
    "       \n",
    "        return(powers(x*x,n/2))\n",
    "        print(x)\n",
    "    else:\n",
    "        \n",
    "        return(x*powers(x*x,(n-1)/2))\n",
    "        print(x)\n",
    "        \n",
    "        \n",
    "        \n",
    "    \n",
    "    \n",
    "    \n",
    "\n",
    "\n",
    "#Base conversion from 27 to 10\n",
    "\n",
    "b=27\n",
    "\n",
    "message_length=0\n",
    "\n",
    "for length in MessageList:\n",
    "        message_length=message_length+1\n",
    "    \n",
    "    \n",
    "message_length=message_length-1\n",
    "sum_decimal=0 #converted decimal value ( message )\n",
    "\n",
    "\n",
    "for i in MessageList:\n",
    "\n",
    "    powr=i*powers(b,message_length)\n",
    "    message_length-=1\n",
    "    #print(pow)\n",
    "    #sum=int(i)*(int(powers(b,message_length)))\n",
    "    sum_decimal=powr+sum_decimal\n",
    "   \n",
    "    \n",
    "    \n",
    "\n",
    "\n",
    "    print(sum_decimal)  #decimal value\n",
    "    \n",
    "    \n",
    "\n",
    "\n",
    "    \n",
    "    \n",
    "    \n",
    "    \n",
    "\n",
    "    \n",
    "    \n",
    "\n",
    "\n",
    "    \n",
    "    \n"
   ]
  },
  {
   "cell_type": "raw",
   "metadata": {},
   "source": [
    "Miller Rabin Primalty test to determine primes p and q to get n=pq and euclids totient phiPQ=(p-1)(q-1)"
   ]
  },
  {
   "cell_type": "code",
   "execution_count": 2,
   "metadata": {},
   "outputs": [
    {
     "name": "stdout",
     "output_type": "stream",
     "text": [
      "[569, 839]\n"
     ]
    }
   ],
   "source": [
    "#Miller Rabin Primalty Test\n",
    "\n",
    "###Algorithm\n",
    "\n",
    "#1. Input to isPrime function:To test for prime/not prime, chose \"n\" as odd number so its a prime.\n",
    "#. Also choose k. Higher the value of k the better\n",
    "#the probability of n NOT being composite(non-prime) since P(n being composite)<= 2^-k\n",
    "\n",
    "#2.Calculate n-1. Note that n-1 is an even number and can be written as 2^t*s. Find t and s.\n",
    "\n",
    "#3.Create a loop to run k times to perform:\n",
    "      #if MillerRabinTest(n,s,t)==false then return false to the isPrime function\n",
    "  #return true  \n",
    "\n",
    "#MillerRabinTest(n,s,t):\n",
    "        #pick a random number a  for 1<=a<n-1 to do following operation:\n",
    "             #Do operation to calculate (a^s)%n\n",
    "             # if (a^s) % n is 1 or n-1 return true //assign it to say variable x.\n",
    "             #else\n",
    "              #run a loop for 1 to t-1:\n",
    "                 # Do operation to calulate  (x^2%n)\n",
    "                 #if x is equal to n-1 return true\n",
    "\n",
    "\n",
    "###\n",
    "\n",
    "\n",
    "\n",
    "import random \n",
    "def isPrime(n,k=128):\n",
    "    \n",
    "    \n",
    "    def MillerRabinTest(n,s,t):\n",
    "            a=2+ random.randint(1,n-4)\n",
    "            x= powers(a,s)%n\n",
    "            \n",
    "            if (x==1 or x==n-1) :\n",
    "                return (True)\n",
    "            \n",
    "            else :\n",
    "                for i in range(1,t):\n",
    "                    x=powers(x,x)%n\n",
    "                    if x==n-1:\n",
    "                        return (True)\n",
    "                    \n",
    "            return False\n",
    "                \n",
    "                \n",
    "        \n",
    "    even=n-1\n",
    "    s=even\n",
    "    t=0\n",
    "    while s%2==0:\n",
    "        s/=2\n",
    "        t+=1\n",
    "    \n",
    "    \n",
    "    \n",
    "    \n",
    "    #print(\"s is %i, t is %i\"%(s,t))\n",
    "    \n",
    "    \n",
    "    for i in range(k):\n",
    "        if MillerRabinTest(n,s,t)==False :\n",
    "            return (False)\n",
    "    \n",
    "    return (True)\n",
    "    \n",
    "    \n",
    "    \n",
    "        \n",
    "\n",
    "    \n",
    "\n",
    "largePrimes=[]    \n",
    "while len(largePrimes)<2:\n",
    "        maybePrime=random.randint(500,1000)\n",
    "        primeNumber=isPrime(maybePrime)\n",
    "        if primeNumber==True:\n",
    "            largePrimes.append(maybePrime)\n",
    "\n",
    "            \n",
    "print(largePrimes)\n"
   ]
  },
  {
   "cell_type": "code",
   "execution_count": 3,
   "metadata": {},
   "outputs": [
    {
     "name": "stdout",
     "output_type": "stream",
     "text": [
      "477391\n",
      "475984\n"
     ]
    }
   ],
   "source": [
    "import numpy\n",
    "n=numpy.prod(largePrimes)\n",
    "print(n)\n",
    "\n",
    "phiP=largePrimes[0]-1\n",
    "phiQ=largePrimes[1]-1\n",
    "\n",
    "phiPQ=phiP*phiQ\n",
    "\n",
    "print(phiPQ)"
   ]
  },
  {
   "cell_type": "raw",
   "metadata": {},
   "source": [
    "Calculate GCD, extended GCD to get public key d. Public key e is given as input."
   ]
  },
  {
   "cell_type": "code",
   "execution_count": 4,
   "metadata": {},
   "outputs": [
    {
     "name": "stdout",
     "output_type": "stream",
     "text": [
      "Type in public key of the user you want to send encrypted message to:1231\n",
      "1231\n"
     ]
    }
   ],
   "source": [
    "#GCD(a,b). This shows whether a and b are co primes of each other meaning their greatest common divisor is 1 or not. \n",
    "#we want GCD to be 1.\n",
    "\n",
    "def EuclidGCD(a,b):\n",
    "    while b !=0:\n",
    "        remainder=a%b\n",
    "        a=b\n",
    "        b=remainder\n",
    "        \n",
    "    return(a)\n",
    "\n",
    "\n",
    "#User input f \"e\" or public key pair  P(e,n). Input goes through iterations until GCD condition is met where GCD(phiPQ,a)\n",
    "\n",
    "flag= 0\n",
    "e=int(input(\"Type in public key of the user you want to send encrypted message to:\"))\n",
    "\n",
    "while flag==0:\n",
    "    GCDresult=EuclidGCD(phiPQ,e)\n",
    "    if (GCDresult==1):\n",
    "        flag=1\n",
    "        \n",
    "    else:\n",
    "        e=int(input(\"Not suitable encryption key.Type in public key again of the user you want to send encrypted message to:\"))\n",
    "        \n",
    "    \n",
    "\n",
    "\n",
    "print(e)\n",
    "\n",
    "\n",
    "\n"
   ]
  },
  {
   "cell_type": "code",
   "execution_count": 5,
   "metadata": {},
   "outputs": [
    {
     "name": "stdout",
     "output_type": "stream",
     "text": [
      "Type in public key of the user you want to send encrypted message to:1231\n",
      "-1.0\n",
      "1\n",
      "-0.5\n",
      "1\n",
      "-0.6666666666666667\n",
      "1\n",
      "-0.6000000000000001\n",
      "1\n",
      "-49.625\n",
      "1\n",
      "-0.01975308641975304\n",
      "1\n",
      "-0.9806295399515739\n",
      "1\n",
      "-0.5048899755501222\n",
      "1\n",
      "-385.66450040617383\n",
      "1\n",
      "0.9974137786144072\n",
      "1\n",
      "gcd( 475984 , 1231 ) =  1\n"
     ]
    }
   ],
   "source": [
    "#extended Euclid GCD (recursive)\n",
    "\n",
    "def gcdExtended(a, b, x, y): \n",
    "    # Base Case \n",
    "    if a == 0 :  \n",
    "        x = 0\n",
    "        y = 1\n",
    "        return b \n",
    "          \n",
    "    x1 = 1\n",
    "    y1 = 1 # To store results of recursive call \n",
    "    gcd = gcdExtended(b%a, a, x1, y1) \n",
    "  \n",
    "    # Update x and y using results of recursive \n",
    "    # call \n",
    "    x = y1 - (b/a) * x1 \n",
    "    print(x)\n",
    "    y = x1 \n",
    "    print(y)\n",
    "  \n",
    "    return (gcd)\n",
    "\n",
    "\n",
    "x = 1\n",
    "y = 1\n",
    "\n",
    "e=int(input(\"Type in public key of the user you want to send encrypted message to:\"))\n",
    "g = gcdExtended(phiPQ, e, x, y) \n",
    "print(\"gcd(\", phiPQ , \",\" , e, \") = \", g) "
   ]
  },
  {
   "cell_type": "code",
   "execution_count": 6,
   "metadata": {},
   "outputs": [
    {
     "name": "stdout",
     "output_type": "stream",
     "text": [
      "Type in public key of the user you want to send encrypted message to:1231\n",
      "475984\n",
      "1\n",
      "-462\n",
      "178639\n"
     ]
    }
   ],
   "source": [
    "#Extended Euclid (iterative)\n",
    "import math\n",
    "def xgcd(a,b):\n",
    "    prevx, x = 1, 0; prevy, y = 0, 1\n",
    "    while b:\n",
    "        q = math.floor(a/b)\n",
    "        x, prevx = prevx - q*x, x\n",
    "        y, prevy = prevy - q*y, y\n",
    "        a, b = b, a % b\n",
    "    return a, prevx, prevy\n",
    "\n",
    "e=int(input(\"Type in public key of the user you want to send encrypted message to:\"))\n",
    "g,x,y=xgcd(phiPQ,e)  #e mod phiPQ where phiPQ > e\n",
    "print(phiPQ)\n",
    "print(g)\n",
    "print(x)\n",
    "print(y)\n",
    "\n",
    "\n",
    "if(y<0):\n",
    "    d=phiPQ- abs(y)  #secret key \n",
    "\n",
    "else:\n",
    "    d=y    #secret key"
   ]
  },
  {
   "cell_type": "markdown",
   "metadata": {},
   "source": [
    "Encryption and decryption of message"
   ]
  },
  {
   "cell_type": "code",
   "execution_count": 7,
   "metadata": {},
   "outputs": [
    {
     "name": "stdout",
     "output_type": "stream",
     "text": [
      "196235\n",
      "397838\n",
      "[20, 5, 19, 20]\n",
      "['T', 'E', 'S', 'T']\n",
      "TEST\n"
     ]
    }
   ],
   "source": [
    "#Encrpytion using P(e,n) and decryption using S(d,n)\n",
    "\n",
    "\n",
    "encrypt=powers(sum_decimal,e)%n   ##P(M)=(M^e)modn\n",
    "print(encrypt) #393277 is the encrypted message M\n",
    "\n",
    "decrypt=powers(encrypt,d)%n ##S(P(M))=(P(M)^d)modn\n",
    "print(decrypt)\n",
    "\n",
    "\n",
    "\n",
    " ##base 10 to base 27 conversion\n",
    "\n",
    "base10to27=[]\n",
    "\n",
    "def tenToTwentySeven(sum_decimal):\n",
    "    b=27\n",
    "    if(sum_decimal<1):\n",
    "        return sum_decimal\n",
    "    quotient=sum_decimal/b\n",
    "    \n",
    "    remainder=sum_decimal%b\n",
    "    base10to27.append(math.floor(remainder))\n",
    "    return tenToTwentySeven(quotient)\n",
    "    \n",
    "    \n",
    "tenToTwentySeven(decrypt)\n",
    "\n",
    "base10to27.reverse()  #getting original code for base 27 back\n",
    "print(base10to27)\n",
    "\n",
    "\n",
    "decode=[]\n",
    "\n",
    "for code in base10to27:\n",
    "    for key,value in Base27.items():\n",
    "        if value==code:\n",
    "            decode.append(key)\n",
    "            break\n",
    "    \n",
    "print(decode)\n",
    "\n",
    "decoded_string = ''.join(decode)\n",
    "\n",
    "print(decoded_string) #decrypted message"
   ]
  }
 ],
 "metadata": {
  "kernelspec": {
   "display_name": "Python 3",
   "language": "python",
   "name": "python3"
  },
  "language_info": {
   "codemirror_mode": {
    "name": "ipython",
    "version": 3
   },
   "file_extension": ".py",
   "mimetype": "text/x-python",
   "name": "python",
   "nbconvert_exporter": "python",
   "pygments_lexer": "ipython3",
   "version": "3.7.3"
  }
 },
 "nbformat": 4,
 "nbformat_minor": 2
}
