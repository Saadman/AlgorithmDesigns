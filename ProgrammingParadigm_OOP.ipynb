{
 "cells": [
  {
   "cell_type": "markdown",
   "metadata": {},
   "source": [
    "## Object Oriented Programming(Python)"
   ]
  },
  {
   "cell_type": "code",
   "execution_count": 25,
   "metadata": {},
   "outputs": [],
   "source": [
    "#Classes are blueprints/ideas of how an entity should be but doesn't hold actual values\n",
    "#for that entity.\n",
    "\n",
    "class GraduateStudent: #self defined data structure. This is the parent class. in python 2.x written as class Classname(object):\n",
    "    #pass #allows to run code without any error\n",
    "    \n",
    "    \n",
    "    #Class Attribute(same for all instances.Here,for all graduate students)\n",
    "    school=\"University of Cincinnati\" #every student is in UC\n",
    "    enrollment=\"Graduate\"\n",
    "    \n",
    "    #initializer/instance attributes(specific to each object.Here,fore each grad student)\n",
    "    def __init__(self,name,department,erdosnumber): #Specify objects initial attributes\n",
    "        self.name=name # atleast one variable passed to _init_. self variable refer to \"object\" itself\n",
    "        self.department=department #self variable is an instance of the class.Helps keep track of individual instances\n",
    "        self.Erdosnumber=erdosnumber\n",
    "        self.in_school=True\n",
    "        \n",
    "        \n",
    "    #instance method\n",
    "    \n",
    "    def description(self,about): #about is defining a \"behaviour\" for the student\n",
    "        return \"{} is in {}.About{}\".format(self.name,self.department,about)\n",
    "    \n",
    "        \n",
    "    def changedSchool(self): #changing/modifying attributes\n",
    "        self.in_school=False\n",
    "        \n",
    "        \n",
    "        \n",
    "    \n",
    "    \n",
    "\n",
    "\n"
   ]
  },
  {
   "cell_type": "code",
   "execution_count": 26,
   "metadata": {},
   "outputs": [
    {
     "name": "stdout",
     "output_type": "stream",
     "text": [
      "Student NameJames\n",
      "Student DepartmentEECS\n",
      "Erdos Number5\n",
      "About youHi I am James from England.\n",
      "Student NameTina\n",
      "Student DepartmentPhysics\n",
      "Erdos Number4\n",
      "Student NameJulie\n",
      "Student DepartmentMaths\n",
      "Erdos Number3\n",
      "James is in EECS and Tina is in Physics.\n",
      "James is in University of Cincinnati\n",
      "5 is the highest erdos number\n",
      "James is in EECS.AboutHi I am James from England.\n",
      "Studdent in school: True\n",
      "Student in school: False\n"
     ]
    }
   ],
   "source": [
    "#Instantiating objects\n",
    "sname1=input(\"Student Name\")\n",
    "sdepartment1=input(\"Student Department\")\n",
    "erdos1=input(\"Erdos Number\")\n",
    "about1=input(\"About you\")\n",
    "student1=GraduateStudent(sname1,sdepartment1,erdos1) # type is __main__.GraduateStudent\n",
    "\n",
    "sname2=input(\"Student Name\")\n",
    "sdepartment2=input(\"Student Department\")\n",
    "erdos2=input(\"Erdos Number\")\n",
    "student2=GraduateStudent(sname2,sdepartment2,erdos2)\n",
    "\n",
    "sname3=input(\"Student Name\")\n",
    "sdepartment3=input(\"Student Department\")\n",
    "erdos3=input(\"Erdos Number\")\n",
    "student3=GraduateStudent(sname3,sdepartment3,erdos3)\n",
    "\n",
    "# Access the instance attributes\n",
    "print(\"{} is in {} and {} is in {}.\".format(\n",
    "    student1.name, student1.department, student2.name, student2.department))\n",
    "\n",
    "# Is Philo a mammal?\n",
    "if student1.school == \"University of Cincinnati\":\n",
    "    print(\"{0} is in {1}\".format(student1.name, student1.school))\n",
    "\n",
    "def get_highest_erdos(*args): #args give flexibility for any number of inputs\n",
    "    return max(args)\n",
    "    \n",
    "\n",
    "\n",
    "print(\"{} is the highest erdos number\".format(get_highest_erdos(student1.Erdosnumber,student2.Erdosnumber,student3.Erdosnumber)))\n",
    "\n",
    "\n",
    "#Describe student one\n",
    "print(student1.description(about1))\n",
    "\n",
    "#student 2 changing schools\n",
    "\n",
    "#in school.Year 1\n",
    "print(\"Studdent in school:\",student2.in_school)\n",
    "#out of school in year 2\n",
    "student2.changedSchool()\n",
    "print(\"Student in school:\",student2.in_school)"
   ]
  },
  {
   "cell_type": "code",
   "execution_count": 28,
   "metadata": {},
   "outputs": [
    {
     "name": "stdout",
     "output_type": "stream",
     "text": [
      "Student NameRashid\n",
      "Student DepartmentEECS\n",
      "Erdos Number2\n",
      "Join Student Organization:Bioinformatics Club\n",
      "Rashid has joined Bioinformatics Club organization\n",
      "True\n",
      "Student NameAlex\n",
      "Student DepartmentArts\n",
      "Erdos Number0\n",
      "Undergraduate\n"
     ]
    }
   ],
   "source": [
    "class Organization(GraduateStudent): #Child class inheriting parent GraduateStudent.Each student in different organizations\n",
    "    def setOrganization(self,org):\n",
    "        self.organization=org\n",
    "        return \"{} has joined {} organization\".format(self.name,self.organization)\n",
    "    \n",
    "\n",
    "    \n",
    "    \n",
    "sname4=input(\"Student Name\")\n",
    "sdepartment4=input(\"Student Department\")\n",
    "erdos4=input(\"Erdos Number\")\n",
    "organization4=input(\"Join Student Organization:\")\n",
    "student4=Organization(sname4,sdepartment4,erdos4)\n",
    "print(student4.setOrganization(organization4))\n",
    "\n",
    "\n",
    "#isinstance() checks for whether an instance/object is a part of a class or the parent of the class\n",
    "\n",
    "#is student4 an instance of GraduateStudent\n",
    "print(isinstance(student4,GraduateStudent))\n",
    "\n",
    "#Overriding functionality of parent class\n",
    "\n",
    "class Notgraduate(GraduateStudent):\n",
    "    enrollment=\"Undergraduate\"\n",
    "    \n",
    "#student5 is an undergrad\n",
    "    \n",
    "sname5=input(\"Student Name\")\n",
    "sdepartment5=input(\"Student Department\")\n",
    "erdos5=input(\"Erdos Number\")\n",
    "student5=Notgraduate(sname5,sdepartment5,erdos5)\n",
    "\n",
    "print(student5.enrollment)\n",
    "    \n"
   ]
  },
  {
   "cell_type": "code",
   "execution_count": null,
   "metadata": {},
   "outputs": [],
   "source": []
  }
 ],
 "metadata": {
  "kernelspec": {
   "display_name": "Python 3",
   "language": "python",
   "name": "python3"
  },
  "language_info": {
   "codemirror_mode": {
    "name": "ipython",
    "version": 3
   },
   "file_extension": ".py",
   "mimetype": "text/x-python",
   "name": "python",
   "nbconvert_exporter": "python",
   "pygments_lexer": "ipython3",
   "version": "3.5.6"
  }
 },
 "nbformat": 4,
 "nbformat_minor": 2
}
